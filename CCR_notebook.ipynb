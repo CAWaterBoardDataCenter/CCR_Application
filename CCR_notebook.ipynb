{
 "cells": [
  {
   "cell_type": "code",
   "execution_count": 7,
   "metadata": {},
   "outputs": [],
   "source": [
    "import pandas as pd\n",
    "import urllib.request\n",
    "import os.path\n",
    "from zipfile import ZipFile\n",
    "from simpledbf import Dbf5"
   ]
  },
  {
   "cell_type": "code",
   "execution_count": 13,
   "metadata": {},
   "outputs": [
    {
     "name": "stdout",
     "output_type": "stream",
     "text": [
      "Retrieving file and saving as geo_import.csv\n"
     ]
    }
   ],
   "source": [
    "#Import the data files\n",
    "#Create a dictionary of the urls and the corresponding zipnames\n",
    "data_dict={}\n",
    "data_dict['chem'] = {'url': \"https://www.waterboards.ca.gov/drinking_water/certlic/drinkingwater/documents/edtlibrary/chemical.zip\",\n",
    "                    'filename':\"chem_import.zip\",'filetype':'zip'}\n",
    "data_dict['storet'] = {'url': \"https://www.waterboards.ca.gov/drinking_water/certlic/drinkingwater/documents/edtlibrary/storet.zip\",\n",
    "                      'filename':\"storet_import.zip\",'filetype':'zip'}\n",
    "data_dict['geo'] = {'url':\"https://data.ca.gov/sites/default/files/Public%20Potable%20Water%20Systems%20FINAL%2006-22-2018_0.csv\",\n",
    "                   'filename':'geo_import.csv','filetype':'csv'}\n",
    "\n",
    "for k in data_dict.keys():\n",
    "    dat_temp=data_dict[k]\n",
    "    if (os.path.exists(dat_temp['filename'])==False):\n",
    "        print('Retrieving file and saving as {:}'.format(dat_temp['filename']))\n",
    "        urllib.request.urlretrieve(dat_temp['url'],dat_temp['filename'])\n"
   ]
  },
  {
   "cell_type": "code",
   "execution_count": null,
   "metadata": {},
   "outputs": [],
   "source": [
    "#Unzip the files and store the contents\n",
    "data_store = {}\n",
    "for k in data_dict.keys():\n",
    "        dat_temp=data_dict[k]\n",
    "        if dat_temp['filetype']=='zip':\n",
    "            with ZipFile(dat_temp['filename'], 'r') as zipObj:\n",
    "                fname=zipObj.namelist()\n",
    "                zipObj.extractall()\n",
    "                #Open the database file\n",
    "                dbf = Dbf5(fname[0])\n",
    "                data_store[k] = dbf.to_dataframe()\n",
    "        else:\n",
    "            data_store[k] = pd.read_csv(dat_temp['filename'])\n",
    "            "
   ]
  },
  {
   "cell_type": "code",
   "execution_count": null,
   "metadata": {},
   "outputs": [],
   "source": [
    "#Clean up some of the data\n",
    "\n"
   ]
  }
 ],
 "metadata": {
  "kernelspec": {
   "display_name": "Python 3",
   "language": "python",
   "name": "python3"
  },
  "language_info": {
   "codemirror_mode": {
    "name": "ipython",
    "version": 3
   },
   "file_extension": ".py",
   "mimetype": "text/x-python",
   "name": "python",
   "nbconvert_exporter": "python",
   "pygments_lexer": "ipython3",
   "version": "3.7.2"
  }
 },
 "nbformat": 4,
 "nbformat_minor": 2
}
