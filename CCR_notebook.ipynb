{
 "cells": [
  {
   "cell_type": "code",
   "execution_count": 1,
   "metadata": {},
   "outputs": [],
   "source": [
    "#The necessary libraries (if you don't have them,\n",
    "#use pip install (module) or conda install (module))\n",
    "import pandas as pd\n",
    "import urllib.request\n",
    "import os.path\n",
    "from zipfile import ZipFile\n",
    "from simpledbf import Dbf5"
   ]
  },
  {
   "cell_type": "code",
   "execution_count": 2,
   "metadata": {},
   "outputs": [],
   "source": [
    "#Import the data files\n",
    "#Create a dictionary of the urls and the corresponding zipnames\n",
    "data_dict={}\n",
    "data_dict['chem'] = {'url': \"https://www.waterboards.ca.gov/drinking_water/certlic/drinkingwater/documents/edtlibrary/chemical.zip\",\n",
    "                    'filename':\"chem_import.zip\",'filetype':'zip'}\n",
    "data_dict['storet'] = {'url': \"https://www.waterboards.ca.gov/drinking_water/certlic/drinkingwater/documents/edtlibrary/storet.zip\",\n",
    "                      'filename':\"storet_import.zip\",'filetype':'zip'}\n",
    "data_dict['geo'] = {'url':\"https://data.ca.gov/sites/default/files/Public%20Potable%20Water%20Systems%20FINAL%2006-22-2018_0.csv\",\n",
    "                   'filename':'geo_import.csv','filetype':'csv'}\n",
    "\n",
    "for k in data_dict.keys():\n",
    "    dat_temp=data_dict[k]\n",
    "    if (os.path.exists(dat_temp['filename'])==False):\n",
    "        print('Retrieving file and saving as {:}'.format(dat_temp['filename']))\n",
    "        urllib.request.urlretrieve(dat_temp['url'],dat_temp['filename'])\n"
   ]
  },
  {
   "cell_type": "code",
   "execution_count": 7,
   "metadata": {
    "scrolled": false
   },
   "outputs": [
    {
     "name": "stdout",
     "output_type": "stream",
     "text": [
      "Opening dbf chemical.dbf\n",
      "Storing data\n",
      "transformed to data frame\n",
      "Extracting file storet.dbf from storet_import.zip\n",
      "Opening dbf storet.dbf\n",
      "Storing data\n",
      "transformed to data frame\n"
     ]
    }
   ],
   "source": [
    "#Unzip the files and store the contents\n",
    "data_store = {}\n",
    "for k in data_dict.keys():\n",
    "        dat_temp=data_dict[k]\n",
    "        if dat_temp['filetype']=='zip':\n",
    "            with ZipFile(dat_temp['filename'], 'r') as zipObj:\n",
    "                fname=zipObj.namelist()[0]\n",
    "                if (os.path.exists(fname)==False):\n",
    "                    print(\"Extracting file {:} from {:}\".format(fname,dat_temp['filename']))\n",
    "                    zipObj.extractall()\n",
    "                #Open the database file\n",
    "                print(\"Opening dbf {:}\".format(fname))\n",
    "                dbf = Dbf5(fname)\n",
    "                print(\"Storing data\")\n",
    "                data_store[k] = dbf.to_dataframe()\n",
    "                print(\"transformed to data frame\")\n",
    "        else:\n",
    "            data_store[k] = pd.read_csv(dat_temp['filename'])\n",
    "            "
   ]
  },
  {
   "cell_type": "code",
   "execution_count": 56,
   "metadata": {},
   "outputs": [],
   "source": [
    "#Bit of data cleaning\n",
    "data_store['chem']['PRIM_STA_C'] = data_store['chem']['PRIM_STA_C'].str[:7]\n",
    "data_store['geo']=data_store['geo'].rename(index=str,columns={'Water System No ': 'PRIM_STA_C'})\n",
    "data_store['geo']['PRIM_STA_C'] = data_store['PRIM_STA_C'].str[2:]\n",
    "\n"
   ]
  },
  {
   "cell_type": "code",
   "execution_count": 63,
   "metadata": {},
   "outputs": [],
   "source": [
    "#One big data file\n",
    "chem_all = pd.merge(data_store['chem'],data_store['storet'],on='STORE_NUM',how='left')\n",
    "chem_all = pd.merge(chem_all,data_store['geo'],on='PRIM_STA_C',how='left')"
   ]
  },
  {
   "cell_type": "code",
   "execution_count": 67,
   "metadata": {},
   "outputs": [],
   "source": [
    "#Writing this to CSV \n",
    "chem_all.to_csv('chem_all.csv',index=False)"
   ]
  },
  {
   "cell_type": "code",
   "execution_count": null,
   "metadata": {},
   "outputs": [],
   "source": [
    "#What are the available "
   ]
  }
 ],
 "metadata": {
  "kernelspec": {
   "display_name": "Python 3",
   "language": "python",
   "name": "python3"
  },
  "language_info": {
   "codemirror_mode": {
    "name": "ipython",
    "version": 3
   },
   "file_extension": ".py",
   "mimetype": "text/x-python",
   "name": "python",
   "nbconvert_exporter": "python",
   "pygments_lexer": "ipython3",
   "version": "3.7.2"
  }
 },
 "nbformat": 4,
 "nbformat_minor": 2
}
